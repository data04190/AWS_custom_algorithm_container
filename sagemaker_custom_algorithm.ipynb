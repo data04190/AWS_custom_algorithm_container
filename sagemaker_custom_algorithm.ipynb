{
 "cells": [
  {
   "cell_type": "code",
   "execution_count": 1,
   "id": "287eb756",
   "metadata": {},
   "outputs": [
    {
     "name": "stdout",
     "output_type": "stream",
     "text": [
      "# Build an image that can do training and inference in SageMaker\n",
      "# This is a Python 3 image that uses the nginx, gunicorn, flask stack\n",
      "# for serving inferences in a stable way.\n",
      "\n",
      "FROM ubuntu:18.04\n",
      "\n",
      "MAINTAINER Amazon AI <sage-learner@amazon.com>\n",
      "\n",
      "\n",
      "RUN apt-get -y update && apt-get install -y --no-install-recommends \\\n",
      "         wget \\\n",
      "         python3-pip \\\n",
      "         python3-setuptools \\\n",
      "         nginx \\\n",
      "         ca-certificates \\\n",
      "    && rm -rf /var/lib/apt/lists/*\n",
      "\n",
      "RUN ln -s /usr/bin/python3 /usr/bin/python\n",
      "RUN ln -s /usr/bin/pip3 /usr/bin/pip\n",
      "\n",
      "# Here we get all python packages.\n",
      "# There's substantial overlap between scipy and numpy that we eliminate by\n",
      "# linking them together. Likewise, pip leaves the install caches populated which uses\n",
      "# a significant amount of space. These optimizations save a fair amount of space in the\n",
      "# image, which reduces start up time.\n",
      "RUN pip --no-cache-dir install numpy==1.16.2 scipy==1.2.1 scikit-learn==0.20.2 pandas flask gunicorn\n",
      "\n",
      "# Set some environment variables. PYTHONUNBUFFERED keeps Python from buffering our standard\n",
      "# output stream, which means that logs can be delivered to the user quickly. PYTHONDONTWRITEBYTECODE\n",
      "# keeps Python from writing the .pyc files which are unnecessary in this case. We also update\n",
      "# PATH so that the train and serve programs are found when the container is invoked.\n",
      "\n",
      "ENV PYTHONUNBUFFERED=TRUE\n",
      "ENV PYTHONDONTWRITEBYTECODE=TRUE\n",
      "ENV PATH=\"/opt/program:${PATH}\"\n",
      "\n",
      "\n",
      "# Set up the program in the image\n",
      "COPY simpleESN /opt/program\n",
      "WORKDIR /opt/program"
     ]
    }
   ],
   "source": [
    "!cat container/Dockerfile"
   ]
  },
  {
   "cell_type": "markdown",
   "id": "deeb53d8",
   "metadata": {},
   "source": [
    "\n",
    "<br><Br>\n",
    "## 컨테이너 빌드 및 등록"
   ]
  },
  {
   "cell_type": "code",
   "execution_count": 4,
   "id": "4e6a91bf",
   "metadata": {},
   "outputs": [
    {
     "name": "stdout",
     "output_type": "stream",
     "text": [
      "197354151997.dkr.ecr.ap-northeast-2.amazonaws.com/sagemaker-kmk:latest\n",
      "Login Succeeded\n",
      "Sending build context to Docker daemon  115.7kB\n",
      "Step 1/11 : FROM ubuntu:18.04\n",
      " ---> 476c64862aa8\n",
      "Step 2/11 : MAINTAINER Amazon AI <sage-learner@amazon.com>\n",
      " ---> Using cache\n",
      " ---> 64d2a5d395b8\n",
      "Step 3/11 : RUN apt-get -y update && apt-get install -y --no-install-recommends          wget          python3-pip          python3-setuptools          nginx          ca-certificates     && rm -rf /var/lib/apt/lists/*\n",
      " ---> Using cache\n",
      " ---> 3883e87b2db1\n",
      "Step 4/11 : RUN ln -s /usr/bin/python3 /usr/bin/python\n",
      " ---> Using cache\n",
      " ---> b3ddc1bf1ddb\n",
      "Step 5/11 : RUN ln -s /usr/bin/pip3 /usr/bin/pip\n",
      " ---> Using cache\n",
      " ---> 8366a297860a\n",
      "Step 6/11 : RUN pip --no-cache-dir install numpy==1.16.2 scipy==1.2.1 scikit-learn==0.20.2 pandas flask gunicorn\n",
      " ---> Using cache\n",
      " ---> 3f21a131ce09\n",
      "Step 7/11 : ENV PYTHONUNBUFFERED=TRUE\n",
      " ---> Using cache\n",
      " ---> aed86c8cd4da\n",
      "Step 8/11 : ENV PYTHONDONTWRITEBYTECODE=TRUE\n",
      " ---> Using cache\n",
      " ---> 6f38905f6cd8\n",
      "Step 9/11 : ENV PATH=\"/opt/program:${PATH}\"\n",
      " ---> Using cache\n",
      " ---> a5fdb2b78b33\n",
      "Step 10/11 : COPY simpleESN /opt/program\n",
      " ---> Using cache\n",
      " ---> 5126c0aea31a\n",
      "Step 11/11 : WORKDIR /opt/program\n",
      " ---> Using cache\n",
      " ---> ac4a009332c0\n",
      "Successfully built ac4a009332c0\n",
      "Successfully tagged sagemaker-kmk:latest\n",
      "The push refers to repository [197354151997.dkr.ecr.ap-northeast-2.amazonaws.com/sagemaker-kmk]\n",
      "229b643f92cf: Preparing\n",
      "e14c4cb4b06a: Preparing\n",
      "738fdeb001de: Preparing\n",
      "f487f71601cb: Preparing\n",
      "9c5504b1221f: Preparing\n",
      "1a996540f50f: Preparing\n",
      "1a996540f50f: Waiting\n",
      "229b643f92cf: Layer already exists\n",
      "e14c4cb4b06a: Layer already exists\n",
      "9c5504b1221f: Layer already exists\n",
      "f487f71601cb: Layer already exists\n",
      "738fdeb001de: Layer already exists\n",
      "1a996540f50f: Layer already exists\n",
      "latest: digest: sha256:3925cd8aee78cd4b7224161a1cb56368ea1cc08f5b76d820c8aeeb88568f56eb size: 1575\n"
     ]
    },
    {
     "name": "stderr",
     "output_type": "stream",
     "text": [
      "WARNING! Your password will be stored unencrypted in /home/ec2-user/.docker/config.json.\n",
      "Configure a credential helper to remove this warning. See\n",
      "https://docs.docker.com/engine/reference/commandline/login/#credentials-store\n",
      "\n"
     ]
    }
   ],
   "source": [
    "%%sh\n",
    "\n",
    "# The name of our algorithm\n",
    "algorithm_name=sagemaker-kmk\n",
    "\n",
    "cd container\n",
    "\n",
    "chmod +x simpleESN/train\n",
    "chmod +x simpleESN/serve\n",
    "\n",
    "account=$(aws sts get-caller-identity --query Account --output text)\n",
    "\n",
    "# Get the region defined in the current configuration (default to ap-northeast-2 if none defined)\n",
    "region=$(aws configure get region)\n",
    "region=${region:-ap-northeast-2}\n",
    "\n",
    "fullname=\"${account}.dkr.ecr.${region}.amazonaws.com/${algorithm_name}:latest\"\n",
    "echo $fullname\n",
    "\n",
    "# If the repository doesn't exist in ECR, create it.\n",
    "aws ecr describe-repositories --repository-names \"${algorithm_name}\" > /dev/null 2>&1\n",
    "\n",
    "if [ $? -ne 0 ]\n",
    "then\n",
    "    aws ecr create-repository --repository-name \"${algorithm_name}\" > /dev/null\n",
    "fi\n",
    "\n",
    "# Get the login command from ECR and execute it directly\n",
    "aws ecr get-login-password --region ${region}|docker login --username AWS --password-stdin ${fullname}\n",
    "\n",
    "# Build the docker image locally with the image name and then push it to ECR\n",
    "# with the full name.\n",
    "\n",
    "docker build  -t ${algorithm_name} .\n",
    "docker tag ${algorithm_name} ${fullname}\n",
    "\n",
    "docker push ${fullname}"
   ]
  },
  {
   "cell_type": "markdown",
   "id": "67d4c579",
   "metadata": {},
   "source": [
    "<br><br>\n",
    "\n",
    "# Amazon SageMaker에서 커스텀 알고리즘으로 학습과 추론 실행"
   ]
  },
  {
   "cell_type": "markdown",
   "id": "1f8b2e67",
   "metadata": {},
   "source": [
    "### 환경 셋업\n",
    "- SageMaker에서 사용할 S3 버킷을 설정"
   ]
  },
  {
   "cell_type": "code",
   "execution_count": 5,
   "id": "ef1281f1",
   "metadata": {},
   "outputs": [],
   "source": [
    "# S3 prefix\n",
    "prefix = 'ESN'\n",
    "\n",
    "# Define IAM role\n",
    "import boto3\n",
    "import re\n",
    "\n",
    "import os\n",
    "import numpy as np\n",
    "import pandas as pd\n",
    "from sagemaker import get_execution_role\n",
    "\n",
    "role = get_execution_role()"
   ]
  },
  {
   "cell_type": "markdown",
   "id": "f133d8ad",
   "metadata": {},
   "source": [
    "### 세션 생성\n"
   ]
  },
  {
   "cell_type": "code",
   "execution_count": 6,
   "id": "fbce5310",
   "metadata": {},
   "outputs": [],
   "source": [
    "import sagemaker as sage\n",
    "from time import gmtime, strftime\n",
    "\n",
    "sess = sage.Session()"
   ]
  },
  {
   "cell_type": "markdown",
   "id": "8b65cb4e",
   "metadata": {},
   "source": [
    "### 하이퍼파라미터 정의\n"
   ]
  },
  {
   "cell_type": "code",
   "execution_count": 7,
   "id": "b94786d6",
   "metadata": {},
   "outputs": [],
   "source": [
    "hyperparameters = {\n",
    "        \"trainLen\" : 2000,    \n",
    "        \"testLen\": 2000,\n",
    "        \"initLen\": 100\n",
    "}"
   ]
  },
  {
   "cell_type": "markdown",
   "id": "847c1e8d",
   "metadata": {},
   "source": [
    "### 학습용 데이터 업로드"
   ]
  },
  {
   "cell_type": "code",
   "execution_count": 8,
   "id": "d812c5fc",
   "metadata": {},
   "outputs": [],
   "source": [
    "WORK_DIRECTORY = 'data'\n",
    "\n",
    "data_location = sess.upload_data(WORK_DIRECTORY, key_prefix=prefix)"
   ]
  },
  {
   "cell_type": "markdown",
   "id": "c7525fa2",
   "metadata": {},
   "source": [
    "<br><br>\n",
    "\n",
    "## Estimator 생성 및 학습 실행\n",
    "\n",
    "- The container name - 이전 쉘스크립트에서 생성한 이름\n",
    "- The role - 학습을 실행할 IAM 역할(role)\n",
    "- The instance count - 학습에 사용할 머신의 개수\n",
    "- The instance type - 학습에 사용할 머신의 인스턴스 타입\n",
    "- The output path - 학습결과로 생성되는 모델 아티펙트의 저장 위치\n",
    "- The session - 이전 단계에서 지정한 SageMaker 세션\n"
   ]
  },
  {
   "cell_type": "code",
   "execution_count": 9,
   "id": "05c3a396",
   "metadata": {},
   "outputs": [],
   "source": [
    "account = sess.boto_session.client('sts').get_caller_identity()['Account']\n",
    "region = sess.boto_session.region_name"
   ]
  },
  {
   "cell_type": "code",
   "execution_count": null,
   "id": "ffe7365a",
   "metadata": {},
   "outputs": [
    {
     "name": "stdout",
     "output_type": "stream",
     "text": [
      "2022-09-06 16:29:04 Starting - Starting the training job...\n",
      "2022-09-06 16:29:22 Starting - Preparing the instances for trainingProfilerReport-1662481744: InProgress\n",
      ".........\n",
      "2022-09-06 16:30:58 Downloading - Downloading input data\n",
      "2022-09-06 16:30:58 Training - Training image download completed. Training in progress..\u001b[34mStarting the training.\u001b[0m\n",
      "\u001b[34m['/opt/ml/input/data/training/.ipynb_checkpoints', '/opt/ml/input/data/training/MackeyGlass_t17.csv', '/opt/ml/input/data/training/iris.csv']\u001b[0m\n",
      "\u001b[34mComputing spectral radius...\u001b[0m\n",
      "\u001b[34mdone.\u001b[0m\n",
      "\u001b[34mMSE = 1.0228880758912786e-06\u001b[0m\n",
      "\u001b[34mTraining complete.\u001b[0m\n"
     ]
    }
   ],
   "source": [
    "image = '{}.dkr.ecr.{}.amazonaws.com/sagemaker-kmk:latest'.format(account, region)\n",
    "\n",
    "esn = sage.estimator.Estimator(image,\n",
    "                       role, 1, 'ml.c4.2xlarge',\n",
    "                       output_path=\"s3://{}/output\".format(sess.default_bucket()),\n",
    "                       hyperparameters=hyperparameters,    #하이퍼파라미터 추가\n",
    "                       sagemaker_session=sess)\n",
    "\n",
    "esn.fit(data_location)"
   ]
  }
 ],
 "metadata": {
  "kernelspec": {
   "display_name": "conda_python3",
   "language": "python",
   "name": "conda_python3"
  },
  "language_info": {
   "codemirror_mode": {
    "name": "ipython",
    "version": 3
   },
   "file_extension": ".py",
   "mimetype": "text/x-python",
   "name": "python",
   "nbconvert_exporter": "python",
   "pygments_lexer": "ipython3",
   "version": "3.6.13"
  }
 },
 "nbformat": 4,
 "nbformat_minor": 5
}
