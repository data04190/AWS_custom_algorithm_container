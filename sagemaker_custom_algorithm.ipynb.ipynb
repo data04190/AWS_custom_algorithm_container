{
 "cells": [
  {
   "cell_type": "code",
   "execution_count": 1,
   "id": "f51d1ae9",
   "metadata": {},
   "outputs": [
    {
     "name": "stdout",
     "output_type": "stream",
     "text": [
      "# Build an image that can do training and inference in SageMaker\n",
      "# This is a Python 3 image that uses the nginx, gunicorn, flask stack\n",
      "# for serving inferences in a stable way.\n",
      "\n",
      "FROM ubuntu:18.04\n",
      "\n",
      "MAINTAINER Amazon AI <sage-learner@amazon.com>\n",
      "\n",
      "\n",
      "RUN apt-get -y update && apt-get install -y --no-install-recommends \\\n",
      "         wget \\\n",
      "         python3-pip \\\n",
      "         python3-setuptools \\\n",
      "         nginx \\\n",
      "         ca-certificates \\\n",
      "    && rm -rf /var/lib/apt/lists/*\n",
      "\n",
      "RUN ln -s /usr/bin/python3 /usr/bin/python\n",
      "RUN ln -s /usr/bin/pip3 /usr/bin/pip\n",
      "\n",
      "# Here we get all python packages.\n",
      "# There's substantial overlap between scipy and numpy that we eliminate by\n",
      "# linking them together. Likewise, pip leaves the install caches populated which uses\n",
      "# a significant amount of space. These optimizations save a fair amount of space in the\n",
      "# image, which reduces start up time.\n",
      "RUN pip --no-cache-dir install numpy==1.16.2 scipy==1.2.1 scikit-learn==0.20.2 pandas flask gunicorn\n",
      "\n",
      "#COPY . /opt/app\n",
      "#WORKDIR /opt/app\n",
      "\n",
      "#COPY requirements.txt ./\n",
      "#RUN pip install -r requirements.txt\n",
      "\n",
      "# Set some environment variables. PYTHONUNBUFFERED keeps Python from buffering our standard\n",
      "# output stream, which means that logs can be delivered to the user quickly. PYTHONDONTWRITEBYTECODE\n",
      "# keeps Python from writing the .pyc files which are unnecessary in this case. We also update\n",
      "# PATH so that the train and serve programs are found when the container is invoked.\n",
      "\n",
      "ENV PYTHONUNBUFFERED=TRUE\n",
      "ENV PYTHONDONTWRITEBYTECODE=TRUE\n",
      "ENV PATH=\"/opt/program:${PATH}\"\n",
      "\n",
      "# Set up the program in the image\n",
      "\n",
      "#COPY decision_trees /opt/program\n",
      "COPY simpleESN /opt/program\n",
      "WORKDIR /opt/program"
     ]
    }
   ],
   "source": [
    "!cat container/Dockerfile"
   ]
  },
  {
   "cell_type": "markdown",
   "id": "87b1bfdc",
   "metadata": {},
   "source": [
    "\n",
    "<br><Br>\n",
    "## 컨테이너 빌드 및 등록"
   ]
  },
  {
   "cell_type": "code",
   "execution_count": 2,
   "id": "9324134f",
   "metadata": {},
   "outputs": [
    {
     "name": "stdout",
     "output_type": "stream",
     "text": [
      "197354151997.dkr.ecr.ap-northeast-2.amazonaws.com/sagemaker-kmk:latest\n",
      "Login Succeeded\n",
      "Sending build context to Docker daemon  115.7kB\n",
      "Step 1/11 : FROM ubuntu:18.04\n",
      " ---> 8d5df41c547b\n",
      "Step 2/11 : MAINTAINER Amazon AI <sage-learner@amazon.com>\n",
      " ---> Using cache\n",
      " ---> b67d0d53009e\n",
      "Step 3/11 : RUN apt-get -y update && apt-get install -y --no-install-recommends          wget          python3-pip          python3-setuptools          nginx          ca-certificates     && rm -rf /var/lib/apt/lists/*\n",
      " ---> Using cache\n",
      " ---> 74a584db2c2d\n",
      "Step 4/11 : RUN ln -s /usr/bin/python3 /usr/bin/python\n",
      " ---> Using cache\n",
      " ---> c00b00391acb\n",
      "Step 5/11 : RUN ln -s /usr/bin/pip3 /usr/bin/pip\n",
      " ---> Using cache\n",
      " ---> efe3ae5ff0f9\n",
      "Step 6/11 : RUN pip --no-cache-dir install numpy==1.16.2 scipy==1.2.1 scikit-learn==0.20.2 pandas flask gunicorn\n",
      " ---> Using cache\n",
      " ---> 9a6185ce0baa\n",
      "Step 7/11 : ENV PYTHONUNBUFFERED=TRUE\n",
      " ---> Using cache\n",
      " ---> 91d9a247cc6b\n",
      "Step 8/11 : ENV PYTHONDONTWRITEBYTECODE=TRUE\n",
      " ---> Using cache\n",
      " ---> cebc26dc82e0\n",
      "Step 9/11 : ENV PATH=\"/opt/program:${PATH}\"\n",
      " ---> Using cache\n",
      " ---> edf19c0dbfb7\n",
      "Step 10/11 : COPY simpleESN /opt/program\n",
      " ---> Using cache\n",
      " ---> c1be7d1ce594\n",
      "Step 11/11 : WORKDIR /opt/program\n",
      " ---> Using cache\n",
      " ---> 69ad3406c37a\n",
      "Successfully built 69ad3406c37a\n",
      "Successfully tagged sagemaker-kmk:latest\n",
      "The push refers to repository [197354151997.dkr.ecr.ap-northeast-2.amazonaws.com/sagemaker-kmk]\n",
      "b0762a4aab32: Preparing\n",
      "992671736750: Preparing\n",
      "23413437cd80: Preparing\n",
      "cb3199e1e16a: Preparing\n",
      "9e63f706e428: Preparing\n",
      "e722d396f503: Preparing\n",
      "e722d396f503: Waiting\n",
      "23413437cd80: Pushed\n",
      "b0762a4aab32: Pushed\n",
      "cb3199e1e16a: Pushed\n",
      "9e63f706e428: Pushed\n",
      "e722d396f503: Pushed\n",
      "992671736750: Pushed\n",
      "latest: digest: sha256:0030c270126519cf3704e5cf5a546eb769dc25dfb42a33db1b15f613160eba16 size: 1575\n"
     ]
    },
    {
     "name": "stderr",
     "output_type": "stream",
     "text": [
      "WARNING! Your password will be stored unencrypted in /home/ec2-user/.docker/config.json.\n",
      "Configure a credential helper to remove this warning. See\n",
      "https://docs.docker.com/engine/reference/commandline/login/#credentials-store\n",
      "\n"
     ]
    }
   ],
   "source": [
    "%%sh\n",
    "\n",
    "# The name of our algorithm\n",
    "algorithm_name=sagemaker-kmk\n",
    "\n",
    "cd container\n",
    "\n",
    "chmod +x simpleESN/train\n",
    "chmod +x simpleESN/serve\n",
    "\n",
    "account=$(aws sts get-caller-identity --query Account --output text)\n",
    "\n",
    "# Get the region defined in the current configuration (default to ap-northeast-2 if none defined)\n",
    "region=$(aws configure get region)\n",
    "region=${region:-ap-northeast-2}\n",
    "\n",
    "fullname=\"${account}.dkr.ecr.${region}.amazonaws.com/${algorithm_name}:latest\"\n",
    "echo $fullname\n",
    "\n",
    "# If the repository doesn't exist in ECR, create it.\n",
    "aws ecr describe-repositories --repository-names \"${algorithm_name}\" > /dev/null 2>&1\n",
    "\n",
    "if [ $? -ne 0 ]\n",
    "then\n",
    "    aws ecr create-repository --repository-name \"${algorithm_name}\" > /dev/null\n",
    "fi\n",
    "\n",
    "# Get the login command from ECR and execute it directly\n",
    "aws ecr get-login-password --region ${region}|docker login --username AWS --password-stdin ${fullname}\n",
    "\n",
    "# Build the docker image locally with the image name and then push it to ECR\n",
    "# with the full name.\n",
    "\n",
    "docker build  -t ${algorithm_name} .\n",
    "docker tag ${algorithm_name} ${fullname}\n",
    "\n",
    "docker push ${fullname}"
   ]
  },
  {
   "cell_type": "markdown",
   "id": "c65b47c7",
   "metadata": {},
   "source": [
    "<br><br>\n",
    "\n",
    "# Amazon SageMaker에서 커스텀 알고리즘으로 학습과 추론 실행"
   ]
  },
  {
   "cell_type": "markdown",
   "id": "0b10926d",
   "metadata": {},
   "source": [
    "### 환경 셋업\n",
    "- SageMaker에서 사용할 S3 버킷을 설정"
   ]
  },
  {
   "cell_type": "code",
   "execution_count": 3,
   "id": "07f63d07",
   "metadata": {},
   "outputs": [],
   "source": [
    "# S3 prefix\n",
    "prefix = 'simpleESN'\n",
    "\n",
    "# Define IAM role\n",
    "import boto3\n",
    "import re\n",
    "\n",
    "import os\n",
    "import numpy as np\n",
    "import pandas as pd\n",
    "from sagemaker import get_execution_role\n",
    "\n",
    "role = get_execution_role()"
   ]
  },
  {
   "cell_type": "markdown",
   "id": "691b9679",
   "metadata": {},
   "source": [
    "### 세션 생성\n"
   ]
  },
  {
   "cell_type": "code",
   "execution_count": 4,
   "id": "c12b2d88",
   "metadata": {},
   "outputs": [],
   "source": [
    "import sagemaker as sage\n",
    "from time import gmtime, strftime\n",
    "\n",
    "sess = sage.Session()"
   ]
  },
  {
   "cell_type": "markdown",
   "id": "4f4decfc",
   "metadata": {},
   "source": [
    "### 학습용 데이터 업로드"
   ]
  },
  {
   "cell_type": "code",
   "execution_count": 5,
   "id": "bd1e177c",
   "metadata": {},
   "outputs": [],
   "source": [
    "WORK_DIRECTORY = 'data'\n",
    "\n",
    "data_location = sess.upload_data(WORK_DIRECTORY, key_prefix=prefix)"
   ]
  },
  {
   "cell_type": "markdown",
   "id": "54ca1773",
   "metadata": {},
   "source": [
    "<br><br>\n",
    "\n",
    "## Estimator 생성 및 학습 실행\n",
    "\n",
    "- The container name - 이전 쉘스크립트에서 생성한 이름\n",
    "- The role - 학습을 실행할 IAM 역할(role)\n",
    "- The instance count - 학습에 사용할 머신의 개수\n",
    "- The instance type - 학습에 사용할 머신의 인스턴스 타입\n",
    "- The output path - 학습결과로 생성되는 모델 아티펙트의 저장 위치\n",
    "- The session - 이전 단계에서 지정한 SageMaker 세션\n"
   ]
  },
  {
   "cell_type": "code",
   "execution_count": 6,
   "id": "f6e483dc",
   "metadata": {},
   "outputs": [],
   "source": [
    "account = sess.boto_session.client('sts').get_caller_identity()['Account']\n",
    "region = sess.boto_session.region_name"
   ]
  },
  {
   "cell_type": "code",
   "execution_count": 7,
   "id": "9eadb1e4",
   "metadata": {},
   "outputs": [
    {
     "name": "stdout",
     "output_type": "stream",
     "text": [
      "2022-08-07 16:23:39 Starting - Starting the training job...\n",
      "2022-08-07 16:23:55 Starting - Preparing the instances for trainingProfilerReport-1659889419: InProgress\n",
      ".........\n",
      "2022-08-07 16:25:37 Downloading - Downloading input data\n",
      "2022-08-07 16:25:37 Training - Training image download completed. Training in progress.\n",
      "2022-08-07 16:25:37 Uploading - Uploading generated training model\n",
      "2022-08-07 16:25:37 Completed - Training job completed\n",
      "\u001b[34mStarting the training.\u001b[0m\n",
      "\u001b[34m['/opt/ml/input/data/training/MackeyGlass_t17.csv', '/opt/ml/input/data/training/.ipynb_checkpoints', '/opt/ml/input/data/training/iris.csv']\u001b[0m\n",
      "\u001b[34mComputing spectral radius...\u001b[0m\n",
      "\u001b[34mdone.\u001b[0m\n",
      "\u001b[34mMSE = 1.0228880758912786e-06\u001b[0m\n",
      "\u001b[34mTraining complete.\u001b[0m\n",
      "Training seconds: 26\n",
      "Billable seconds: 26\n"
     ]
    }
   ],
   "source": [
    "image = '{}.dkr.ecr.{}.amazonaws.com/sagemaker-kmk:latest'.format(account, region)\n",
    "\n",
    "tree = sage.estimator.Estimator(image,\n",
    "                       role, 1, 'ml.c4.2xlarge',\n",
    "                       output_path=\"s3://{}/output\".format(sess.default_bucket()),\n",
    "                       sagemaker_session=sess)\n",
    "\n",
    "tree.fit(data_location)"
   ]
  }
 ],
 "metadata": {
  "kernelspec": {
   "display_name": "conda_python3",
   "language": "python",
   "name": "conda_python3"
  },
  "language_info": {
   "codemirror_mode": {
    "name": "ipython",
    "version": 3
   },
   "file_extension": ".py",
   "mimetype": "text/x-python",
   "name": "python",
   "nbconvert_exporter": "python",
   "pygments_lexer": "ipython3",
   "version": "3.6.13"
  }
 },
 "nbformat": 4,
 "nbformat_minor": 5
}
